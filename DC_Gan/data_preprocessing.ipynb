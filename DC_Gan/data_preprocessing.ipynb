{
 "cells": [
  {
   "cell_type": "code",
   "execution_count": 2,
   "metadata": {},
   "outputs": [
    {
     "name": "stdout",
     "output_type": "stream",
     "text": [
      "Collecting opencv-python\n",
      "  Using cached opencv_python-4.10.0.84-cp37-abi3-win_amd64.whl.metadata (20 kB)\n",
      "Requirement already satisfied: numpy>=1.21.2 in d:\\ai\\master\\stink_bugs\\venv\\lib\\site-packages (from opencv-python) (1.26.3)\n",
      "Using cached opencv_python-4.10.0.84-cp37-abi3-win_amd64.whl (38.8 MB)\n",
      "Installing collected packages: opencv-python\n",
      "Successfully installed opencv-python-4.10.0.84\n",
      "Note: you may need to restart the kernel to use updated packages.\n"
     ]
    }
   ],
   "source": [
    "pip install opencv-python"
   ]
  },
  {
   "cell_type": "code",
   "execution_count": 2,
   "metadata": {},
   "outputs": [],
   "source": [
    "import os\n",
    "from PIL import Image\n",
    "import numpy as np\n",
    "import cv2\n",
    "import os\n",
    "import xml.etree.ElementTree as ET"
   ]
  },
  {
   "cell_type": "markdown",
   "metadata": {},
   "source": [
    "#  Crop Images "
   ]
  },
  {
   "cell_type": "code",
   "execution_count": null,
   "metadata": {},
   "outputs": [],
   "source": [
    "\n",
    "\n",
    "# # Đường dẫn đến thư mục chứa ảnh và annotations\n",
    "# folder_adult = rf'D:\\AI\\Master\\Stink_Bugs\\Images\\Images\\adult'\n",
    "# folder_nymph = rf'D:\\AI\\Master\\Stink_Bugs\\Images\\Images\\nymph'\n",
    "# annotations_folder = rf'D:\\AI\\Master\\Stink_Bugs\\Images\\Images\\Annotations'\n",
    "\n",
    "# # Đường dẫn lưu ảnh đã crop\n",
    "# folder_adult_cropped = rf'D:\\AI\\Master\\Stink_Bugs\\Images\\Croped\\adult'\n",
    "# folder_nymph_cropped = rf'D:\\AI\\Master\\Stink_Bugs\\Images\\Croped\\nymph'\n",
    "\n",
    "# # Tạo thư mục lưu ảnh crop nếu chưa tồn tại\n",
    "# os.makedirs(folder_adult_cropped, exist_ok=True)\n",
    "# os.makedirs(folder_nymph_cropped, exist_ok=True)\n",
    "\n",
    "# # Hàm để đọc annotation và lấy bounding box\n",
    "# def get_bounding_box_from_xml(xml_file):\n",
    "#     tree = ET.parse(xml_file)\n",
    "#     root = tree.getroot()\n",
    "#     for obj in root.findall('object'):\n",
    "#         bndbox = obj.find('bndbox')\n",
    "#         xmin = int(bndbox.find('xmin').text)\n",
    "#         ymin = int(bndbox.find('ymin').text)\n",
    "#         xmax = int(bndbox.find('xmax').text)\n",
    "#         ymax = int(bndbox.find('ymax').text)\n",
    "#         return xmin, ymin, xmax, ymax\n",
    "#     return None\n",
    "\n",
    "# # Hàm để crop ảnh và lưu\n",
    "# def crop_and_save_image(image_path, annotation_path, save_folder):\n",
    "#     # Đọc ảnh\n",
    "#     image = cv2.imread(image_path)\n",
    "    \n",
    "#     # Lấy bounding box từ file XML\n",
    "#     bbox = get_bounding_box_from_xml(annotation_path)\n",
    "#     if bbox:\n",
    "#         xmin, ymin, xmax, ymax = bbox\n",
    "        \n",
    "#         # Crop ảnh\n",
    "#         cropped_image = image[ymin:ymax, xmin:xmax]\n",
    "        \n",
    "#         # Lưu ảnh crop\n",
    "#         image_name = os.path.basename(image_path)\n",
    "#         cv2.imwrite(os.path.join(save_folder, image_name), cropped_image)\n",
    "\n",
    "# # Duyệt qua ảnh trong Folder A và xử lý\n",
    "# for image_file in os.listdir(folder_adult):\n",
    "#     if image_file.endswith(('jpg', 'jpeg', 'png')):\n",
    "#         image_path = os.path.join(folder_adult, image_file)\n",
    "#         annotation_file = os.path.join(annotations_folder, image_file.replace('.jpg', '.xml'))\n",
    "        \n",
    "#         if os.path.exists(annotation_file):\n",
    "#             crop_and_save_image(image_path, annotation_file, folder_adult_cropped)\n",
    "\n",
    "# # Duyệt qua ảnh trong Folder B và xử lý\n",
    "# for image_file in os.listdir(folder_nymph):\n",
    "#     if image_file.endswith(('jpg', 'jpeg', 'png')):\n",
    "#         image_path = os.path.join(folder_nymph, image_file)\n",
    "#         annotation_file = os.path.join(annotations_folder, image_file.replace('.jpg', '.xml'))\n",
    "        \n",
    "#         if os.path.exists(annotation_file):\n",
    "#             crop_and_save_image(image_path, annotation_file, folder_nymph_cropped)\n"
   ]
  },
  {
   "cell_type": "markdown",
   "metadata": {},
   "source": [
    "# Resize Images"
   ]
  },
  {
   "cell_type": "code",
   "execution_count": 7,
   "metadata": {},
   "outputs": [
    {
     "name": "stdout",
     "output_type": "stream",
     "text": [
      "All images have been resized and saved to D:\\AI\\Master\\Stink_Bugs\\Images\\Inputs\\512\\nymph.\n"
     ]
    }
   ],
   "source": [
    "\n",
    "size = 512\n",
    "type = \"nymph\"\n",
    "# Đường dẫn tới thư mục chứa ảnh gốc\n",
    "folder_path = rf'D:\\AI\\Master\\Stink_Bugs\\Images\\Croped\\{type}'\n",
    "\n",
    "# Đường dẫn tới thư mục đích để lưu ảnh resize\n",
    "output_folder = rf\"D:\\AI\\Master\\Stink_Bugs\\Images\\Inputs\\{size}\\{type}\"\n",
    "\n",
    "# Tạo thư mục đích nếu chưa tồn tại\n",
    "if not os.path.exists(output_folder):\n",
    "    os.makedirs(output_folder)\n",
    "\n",
    "# Kích thước mục tiêu cho ảnh resize\n",
    "target_size = (size, size)\n",
    "\n",
    "# Hàm resize ảnh và lưu vào thư mục đích\n",
    "def resize_and_save_image(image_path, target_size, output_folder):\n",
    "    img = Image.open(image_path)\n",
    "    img = img.resize(target_size, Image.LANCZOS)  # Resize ảnh với nội suy mềm\n",
    "\n",
    "    # Lấy tên file gốc\n",
    "    image_name = os.path.basename(image_path)\n",
    "\n",
    "    # Đường dẫn lưu file mới\n",
    "    save_path = os.path.join(output_folder, image_name)\n",
    "\n",
    "    # Lưu ảnh sau khi resize\n",
    "    img.save(save_path)\n",
    "\n",
    "# Đọc tất cả các tệp ảnh từ thư mục gốc\n",
    "image_files = [os.path.join(folder_path, file) for file in os.listdir(folder_path) if file.endswith(('png', 'jpg', 'jpeg'))]\n",
    "\n",
    "# Resize và lưu tất cả các ảnh\n",
    "for file in image_files:\n",
    "\n",
    "    resize_and_save_image(file, target_size, output_folder)\n",
    "\n",
    "print(f\"All images have been resized and saved to {output_folder}.\")"
   ]
  }
 ],
 "metadata": {
  "kernelspec": {
   "display_name": "venv",
   "language": "python",
   "name": "python3"
  },
  "language_info": {
   "codemirror_mode": {
    "name": "ipython",
    "version": 3
   },
   "file_extension": ".py",
   "mimetype": "text/x-python",
   "name": "python",
   "nbconvert_exporter": "python",
   "pygments_lexer": "ipython3",
   "version": "3.10.0"
  }
 },
 "nbformat": 4,
 "nbformat_minor": 2
}
