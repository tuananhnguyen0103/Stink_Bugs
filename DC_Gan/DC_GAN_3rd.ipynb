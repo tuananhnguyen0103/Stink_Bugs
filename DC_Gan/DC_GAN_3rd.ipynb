{
 "cells": [
  {
   "cell_type": "markdown",
   "metadata": {},
   "source": [
    "# Run All"
   ]
  },
  {
   "cell_type": "markdown",
   "metadata": {},
   "source": [
    "## 1. Import Lib"
   ]
  },
  {
   "cell_type": "markdown",
   "metadata": {},
   "source": [
    "Thêm các thư viện"
   ]
  },
  {
   "cell_type": "code",
   "execution_count": 1,
   "metadata": {},
   "outputs": [
    {
     "name": "stdout",
     "output_type": "stream",
     "text": [
      "True\n",
      "12.4\n"
     ]
    }
   ],
   "source": [
    "import torch\n",
    "print(torch.cuda.is_available())\n",
    "print(torch.version.cuda)\n",
    "import torch\n",
    "import torch.nn as nn\n",
    "import numpy as np\n",
    "import time\n",
    "import os\n",
    "import matplotlib.pyplot as plt\n",
    "import torchvision.utils as vutils\n",
    "from torchvision.utils import save_image"
   ]
  },
  {
   "cell_type": "markdown",
   "metadata": {},
   "source": [
    "Kiểm tra "
   ]
  },
  {
   "cell_type": "code",
   "execution_count": 2,
   "metadata": {},
   "outputs": [
    {
     "name": "stdout",
     "output_type": "stream",
     "text": [
      "Có 1 GPU(s) được phát hiện:\n",
      "GPU 0: Quadro RTX 4000 with Max-Q Design\n"
     ]
    }
   ],
   "source": [
    "import torch\n",
    "\n",
    "if torch.cuda.is_available():\n",
    "    num_gpus = torch.cuda.device_count()\n",
    "    print(f\"Có {num_gpus} GPU(s) được phát hiện:\")\n",
    "    \n",
    "    for i in range(num_gpus):\n",
    "        print(f\"GPU {i}: {torch.cuda.get_device_name(i)}\")\n",
    "else:\n",
    "    print(\"Không có GPU nào được phát hiện.\")\n"
   ]
  },
  {
   "cell_type": "code",
   "execution_count": 3,
   "metadata": {},
   "outputs": [
    {
     "data": {
      "text/plain": [
       "device(type='cuda')"
      ]
     },
     "execution_count": 3,
     "metadata": {},
     "output_type": "execute_result"
    }
   ],
   "source": [
    "# Kiểm tra nếu có GPU khả dụng, nếu không thì sử dụng CPU\n",
    "device = torch.device(\"cuda\" if torch.cuda.is_available() else \"cpu\")\n",
    "\n",
    "device"
   ]
  },
  {
   "cell_type": "markdown",
   "metadata": {},
   "source": [
    "## Get Image Preprocessing"
   ]
  },
  {
   "cell_type": "code",
   "execution_count": 4,
   "metadata": {},
   "outputs": [
    {
     "name": "stdout",
     "output_type": "stream",
     "text": [
      "Loaded and shuffled 806 images with shape torch.Size([806, 3, 128, 128])\n"
     ]
    }
   ],
   "source": [
    "import os\n",
    "from PIL import Image\n",
    "import torch\n",
    "from torchvision import transforms\n",
    "\n",
    "def load_and_shuffle_images(folder_path, mean, std, img_shape=(128, 128)):\n",
    "    images = []\n",
    "    \n",
    "    # Định nghĩa các transform để xử lý ảnh\n",
    "    transform = transforms.Compose([\n",
    "        transforms.Resize(img_shape),  # Resize ảnh về kích thước (128, 128)\n",
    "        transforms.ToTensor(),  # Chuyển đổi ảnh thành tensor và chuẩn hóa về [0, 1]\n",
    "        transforms.Normalize(mean, std)  # Chuẩn hóa về [-1, 1]\n",
    "    ])\n",
    "    \n",
    "    # Đọc và transform ảnh\n",
    "    for filename in os.listdir(folder_path):\n",
    "        img_path = os.path.join(folder_path, filename)\n",
    "        img = Image.open(img_path).convert(\"RGB\")  # Đảm bảo ảnh có 3 kênh (RGB)\n",
    "        img_tensor = transform(img)  # Áp dụng các transform lên ảnh\n",
    "        images.append(img_tensor)\n",
    "    \n",
    "    # Shuffle các tensor ảnh\n",
    "    images_tensor = torch.stack(images)  # Chuyển danh sách ảnh thành tensor với kích thước (N, 3, 128, 128)\n",
    "    shuffled_indices = torch.randperm(images_tensor.size(0))  # Tạo thứ tự ngẫu nhiên để shuffle\n",
    "    shuffled_images_tensor = images_tensor[shuffled_indices]  # Trộn các tensor ảnh\n",
    "    \n",
    "    return shuffled_images_tensor\n",
    "\n",
    "# Thiết lập mean và std để chuẩn hóa ảnh\n",
    "mean = [0.5, 0.5, 0.5]\n",
    "std = [0.5, 0.5, 0.5]\n",
    "\n",
    "# Thay đổi đường dẫn tới thư mục chứa ảnh \n",
    "folder_path = rf'D:\\Download\\Edge\\stinkbug\\Merge\\Labeling\\Stink_bugs\\Categories\\Images\\Inputs\\128\\adult'  \n",
    "img_shape = (128, 128)\n",
    "\n",
    "# Load và shuffle ảnh\n",
    "real_images = load_and_shuffle_images(folder_path, mean, std, img_shape)\n",
    "\n",
    "# Kiểm tra kích thước tensor\n",
    "print(f\"Loaded and shuffled {real_images.size(0)} images with shape {real_images.shape}\")\n"
   ]
  },
  {
   "cell_type": "code",
   "execution_count": 5,
   "metadata": {},
   "outputs": [],
   "source": [
    "import torch\n",
    "import torch.nn as nn\n",
    "\n",
    "# Generator\n",
    "class Generator(nn.Module):\n",
    "    def __init__(self, noise_dim, channels):\n",
    "        super(Generator, self).__init__()\n",
    "        \n",
    "        self.model = nn.Sequential(\n",
    "            # Dense layer equivalent\n",
    "            nn.Linear(noise_dim, 8 * 8 * 1024),\n",
    "            nn.LeakyReLU(0.2),\n",
    "            \n",
    "            # Reshape to (batch_size, 1024, 8, 8)\n",
    "            nn.Unflatten(1, (1024, 8, 8)),\n",
    "            \n",
    "            # First Conv2DTranspose: (8x8) -> (16x16)\n",
    "            nn.ConvTranspose2d(1024, 512, kernel_size=4, stride=2, padding=1),\n",
    "            nn.BatchNorm2d(512),\n",
    "            nn.LeakyReLU(0.2),\n",
    "            \n",
    "            # Second Conv2DTranspose: (16x16) -> (32x32)\n",
    "            nn.ConvTranspose2d(512, 256, kernel_size=4, stride=2, padding=1),\n",
    "            nn.BatchNorm2d(256),\n",
    "            nn.LeakyReLU(0.2),\n",
    "            \n",
    "            # Third Conv2DTranspose: (32x32) -> (64x64)\n",
    "            nn.ConvTranspose2d(256, 128, kernel_size=4, stride=2, padding=1),\n",
    "            nn.BatchNorm2d(128),\n",
    "            nn.LeakyReLU(0.2),\n",
    "            \n",
    "            # Fourth Conv2DTranspose: (64x64) -> (128x128)\n",
    "            nn.ConvTranspose2d(128, 64, kernel_size=4, stride=2, padding=1),\n",
    "            nn.BatchNorm2d(64),\n",
    "            nn.LeakyReLU(0.2),\n",
    "            \n",
    "            # Output layer: Conv2D\n",
    "            nn.Conv2d(64, channels, kernel_size=3, stride=1, padding=1),\n",
    "            nn.Tanh()\n",
    "        )\n",
    "\n",
    "    def forward(self, x):\n",
    "        return self.model(x)\n",
    "\n",
    "\n"
   ]
  },
  {
   "cell_type": "code",
   "execution_count": 6,
   "metadata": {},
   "outputs": [],
   "source": [
    "# Discriminator\n",
    "class Discriminator(nn.Module):\n",
    "    def __init__(self, channels, img_size):\n",
    "        super(Discriminator, self).__init__()\n",
    "        \n",
    "        self.model = nn.Sequential(\n",
    "            # First Conv2D layer: (128x128) -> (64x64)\n",
    "            nn.Conv2d(3, 64, kernel_size=4, stride=2, padding=1),\n",
    "            nn.LeakyReLU(0.2, inplace=True),\n",
    "            \n",
    "            # Second Conv2D layer: (64x64) -> (32x32)\n",
    "            nn.Conv2d(64, 128, kernel_size=4, stride=2, padding=1),\n",
    "            nn.BatchNorm2d(128),\n",
    "            nn.LeakyReLU(0.2, inplace=True),\n",
    "            \n",
    "            # Third Conv2D layer: (32x32) -> (16x16)\n",
    "            nn.Conv2d(128, 256, kernel_size=4, stride=2, padding=1),\n",
    "            nn.BatchNorm2d(256),\n",
    "            nn.LeakyReLU(0.2, inplace=True),\n",
    "            \n",
    "            # Fourth Conv2D layer: (16x16) -> (8x8)\n",
    "            nn.Conv2d(256, 512, kernel_size=4, stride=2, padding=1),\n",
    "            nn.BatchNorm2d(512),\n",
    "            nn.LeakyReLU(0.2, inplace=True),\n",
    "            \n",
    "            # Flatten and Dense output\n",
    "            nn.Flatten(),\n",
    "            nn.Dropout(0.4),\n",
    "            nn.Linear(512 * (img_size // 16) * (img_size // 16), 1),\n",
    "            nn.Sigmoid()\n",
    "        )\n",
    "\n",
    "    def forward(self, x):\n",
    "        return self.model(x)"
   ]
  },
  {
   "cell_type": "code",
   "execution_count": 7,
   "metadata": {},
   "outputs": [],
   "source": [
    "import torch.optim as optim\n",
    "import matplotlib.pyplot as plt\n",
    "import numpy as np\n",
    "from tqdm import tqdm\n",
    "\n",
    "# Thiết lập các siêu tham số\n",
    "NOISE_DIM = 100\n",
    "BATCH_SIZE = 16\n",
    "STEPS_PER_EPOCH = real_images.size(0) // BATCH_SIZE\n",
    "EPOCHS = 1000\n",
    "img_size = 128\n",
    "channels = 3\n",
    "device = torch.device(\"cuda\" if torch.cuda.is_available() else \"cpu\")\n",
    "\n",
    "# Khởi tạo Generator và Discriminator và chuyển chúng sang GPU (nếu có)\n",
    "generator = Generator(NOISE_DIM, channels).to(device)\n",
    "discriminator = Discriminator(channels, img_size).to(device)\n",
    "\n",
    "# Khởi tạo Optimizer\n",
    "optimizer_g = optim.Adam(generator.parameters(), lr=0.0001, betas=(0.5, 0.999))\n",
    "optimizer_d = optim.Adam(discriminator.parameters(), lr=0.000002, betas=(0.5, 0.999))\n",
    "\n",
    "# Hàm mất mát\n",
    "criterion = nn.BCELoss()\n",
    "\n",
    "# Biến lưu trữ lịch sử loss\n",
    "G_losses = []\n",
    "D_losses = []\n",
    "\n",
    "save_image_dir = rf'D:\\Download\\Edge\\stinkbug\\Merge\\Labeling\\Stink_bugs\\Code_split_data\\DC_Gan\\generated_images\\v8'\n",
    "model_dir = rf\"D:\\Download\\Edge\\stinkbug\\Merge\\Labeling\\Stink_bugs\\Code_split_data\\DC_Gan\\models\\v8\"\n",
    "filename = rf'D:\\Download\\Edge\\stinkbug\\Merge\\Labeling\\Stink_bugs\\Code_split_data\\DC_Gan\\json\\training_log.json'\n",
    "image_loss_path = rf\"D:\\Download\\Edge\\stinkbug\\Merge\\Labeling\\Stink_bugs\\Code_split_data\\DC_Gan\\models\\v8\""
   ]
  },
  {
   "cell_type": "code",
   "execution_count": 9,
   "metadata": {},
   "outputs": [
    {
     "name": "stdout",
     "output_type": "stream",
     "text": [
      "Note: you may need to restart the kernel to use updated packages.\n"
     ]
    }
   ],
   "source": [
    "pip freeze > requirements.txt  # Python3"
   ]
  },
  {
   "cell_type": "code",
   "execution_count": 12,
   "metadata": {},
   "outputs": [
    {
     "name": "stdout",
     "output_type": "stream",
     "text": [
      "3.10.0\n"
     ]
    }
   ],
   "source": [
    "import platform\n",
    "print(platform.python_version())\n"
   ]
  }
 ],
 "metadata": {
  "kernelspec": {
   "display_name": "env_gpu",
   "language": "python",
   "name": "python3"
  },
  "language_info": {
   "codemirror_mode": {
    "name": "ipython",
    "version": 3
   },
   "file_extension": ".py",
   "mimetype": "text/x-python",
   "name": "python",
   "nbconvert_exporter": "python",
   "pygments_lexer": "ipython3",
   "version": "3.10.0"
  }
 },
 "nbformat": 4,
 "nbformat_minor": 2
}
